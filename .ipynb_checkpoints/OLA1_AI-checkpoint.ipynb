{
 "cells": [
  {
   "cell_type": "code",
   "execution_count": 1,
   "id": "9363fbf1-e00f-4e34-8c19-c7606c22dd00",
   "metadata": {},
   "outputs": [],
   "source": [
    "import tensorflow as tf\n",
    "import keras \n",
    "import pandas as pd\n",
    "import numpy as np\n",
    "import seaborn as sns\n",
    "import random as ran\n",
    "import matplotlib.pyplot as plt\n",
    "from PIL import Image"
   ]
  },
  {
   "cell_type": "code",
   "execution_count": 2,
   "id": "f7320f6e-9ba1-4af6-b790-d12ccd5049cb",
   "metadata": {},
   "outputs": [],
   "source": [
    "from keras.models import Sequential\n",
    "from keras.layers import Input, Conv2D, MaxPool2D, Flatten, Dense, Dropout\n",
    "from keras.optimizers import Adam"
   ]
  },
  {
   "cell_type": "code",
   "execution_count": 3,
   "id": "7653cfc4-96e3-4b75-89e0-91b5f830671c",
   "metadata": {},
   "outputs": [],
   "source": [
    "# Pulling Cifar10 Datasets and splitting the data (80/20)\n",
    "(train_images, train_labels), (test_images, test_labels) = tf.keras.datasets.cifar10.load_data()"
   ]
  },
  {
   "cell_type": "code",
   "execution_count": 4,
   "id": "6664781d-b0c0-48d5-bed4-8949bed988ed",
   "metadata": {},
   "outputs": [],
   "source": [
    "# Labels for cats and dogs in the Cifer10 datasets\n",
    "cats_label = 3\n",
    "dogs_label = 5\n",
    "\n",
    "# Filter the training data for cats and dogs\n",
    "train_filter = (train_labels.squeeze() == cats_label) | (train_labels.squeeze() == dogs_label)\n",
    "x_train = train_images[train_filter]\n",
    "y_train = train_labels[train_filter]\n",
    "\n",
    "# Filter the testing data for cats and dogs\n",
    "test_filter = (test_labels.squeeze() == cats_label) | (test_labels.squeeze() == dogs_label)\n",
    "x_test = test_images[test_filter]\n",
    "y_test = test_labels[test_filter]"
   ]
  },
  {
   "cell_type": "code",
   "execution_count": 5,
   "id": "99e688a5-6b3f-4af5-ad04-e29c1d43df05",
   "metadata": {},
   "outputs": [
    {
     "data": {
      "text/plain": [
       "array([[[213, 221, 221],\n",
       "        [119, 127, 122],\n",
       "        [ 58,  71,  81],\n",
       "        ...,\n",
       "        [143, 158, 150],\n",
       "        [140, 142, 136],\n",
       "        [117, 101,  87]],\n",
       "\n",
       "       [[214, 223, 220],\n",
       "        [128, 137, 130],\n",
       "        [ 62,  75,  83],\n",
       "        ...,\n",
       "        [138, 152, 145],\n",
       "        [136, 138, 133],\n",
       "        [111,  95,  82]],\n",
       "\n",
       "       [[215, 224, 219],\n",
       "        [139, 148, 139],\n",
       "        [ 75,  88,  94],\n",
       "        ...,\n",
       "        [136, 151, 143],\n",
       "        [134, 136, 131],\n",
       "        [107,  91,  77]],\n",
       "\n",
       "       ...,\n",
       "\n",
       "       [[118,  45,  37],\n",
       "        [122,  45,  40],\n",
       "        [129,  46,  42],\n",
       "        ...,\n",
       "        [158,  65,  54],\n",
       "        [151,  68,  55],\n",
       "        [145,  67,  55]],\n",
       "\n",
       "       [[111,  38,  32],\n",
       "        [117,  42,  36],\n",
       "        [128,  47,  41],\n",
       "        ...,\n",
       "        [153,  62,  53],\n",
       "        [147,  59,  49],\n",
       "        [141,  63,  51]],\n",
       "\n",
       "       [[110,  38,  32],\n",
       "        [116,  40,  34],\n",
       "        [127,  48,  41],\n",
       "        ...,\n",
       "        [141,  55,  46],\n",
       "        [136,  52,  43],\n",
       "        [139,  58,  47]]], dtype=uint8)"
      ]
     },
     "execution_count": 5,
     "metadata": {},
     "output_type": "execute_result"
    }
   ],
   "source": [
    "x_train[10]"
   ]
  },
  {
   "cell_type": "code",
   "execution_count": 6,
   "id": "3b9f2f73-a45d-490d-b1ae-70efe460a4f9",
   "metadata": {},
   "outputs": [
    {
     "data": {
      "text/plain": [
       "0"
      ]
     },
     "execution_count": 6,
     "metadata": {},
     "output_type": "execute_result"
    }
   ],
   "source": [
    "np.isnan(x_train).sum()"
   ]
  },
  {
   "cell_type": "code",
   "execution_count": 7,
   "id": "58820a39-84c5-4a57-908f-1284a22ac3c9",
   "metadata": {},
   "outputs": [
    {
     "data": {
      "text/plain": [
       "False"
      ]
     },
     "execution_count": 7,
     "metadata": {},
     "output_type": "execute_result"
    }
   ],
   "source": [
    "np.isnan(x_test).any()"
   ]
  },
  {
   "cell_type": "code",
   "execution_count": 8,
   "id": "ceb9d53c-2580-4432-b978-7c4cd06b1c9c",
   "metadata": {},
   "outputs": [
    {
     "data": {
      "text/plain": [
       "(10000, 32, 32, 3)"
      ]
     },
     "execution_count": 8,
     "metadata": {},
     "output_type": "execute_result"
    }
   ],
   "source": [
    "x_train.shape"
   ]
  },
  {
   "cell_type": "code",
   "execution_count": 9,
   "id": "13bf4250-6b81-47d0-9825-7089c2880890",
   "metadata": {},
   "outputs": [],
   "source": [
    "x_train = x_train / 255.0"
   ]
  },
  {
   "cell_type": "code",
   "execution_count": 10,
   "id": "8698b6b7-230b-4b85-a384-4d553c845218",
   "metadata": {},
   "outputs": [],
   "source": [
    "x_test = x_test / 255.0"
   ]
  },
  {
   "cell_type": "code",
   "execution_count": 11,
   "id": "9c34c021-2542-43d9-af76-91023c145d2d",
   "metadata": {},
   "outputs": [
    {
     "name": "stderr",
     "output_type": "stream",
     "text": [
      "C:\\Users\\puixd\\AppData\\Local\\Temp\\ipykernel_27044\\2732940846.py:4: DeprecationWarning: Conversion of an array with ndim > 0 to a scalar is deprecated, and will error in future. Ensure you extract a single element from your array before performing this operation. (Deprecated NumPy 1.25.)\n",
      "  plt.title('Example: %d  Label: %d' % (num, label))\n"
     ]
    },
    {
     "data": {
      "image/png": "[encoded data removed]",
      "text/plain": [
       "<Figure size 432x288 with 1 Axes>"
      ]
     },
     "metadata": {
      "needs_background": "light"
     },
     "output_type": "display_data"
    }
   ],
   "source": [
    "def display_digit(num, size, color):\n",
    "    image = x_train[num].reshape([size,size,color])\n",
    "    label = y_train[num]\n",
    "    plt.title('Example: %d  Label: %d' % (num, label))\n",
    "    plt.imshow(image, cmap=plt.get_cmap('gray_r'))\n",
    "    plt.grid()\n",
    "    plt.show()\n",
    "\n",
    "randnum = ran.randint(0, 10000)\n",
    "display_digit(randnum, 32, 3)"
   ]
  },
  {
   "cell_type": "code",
   "execution_count": 12,
   "id": "e6dc2824-648f-49ab-9855-e29e29e6ab2d",
   "metadata": {},
   "outputs": [],
   "source": [
    "y_train = y_train.reshape(10000)\n",
    "y_train = y_train.astype(np.int32)"
   ]
  },
  {
   "cell_type": "code",
   "execution_count": 13,
   "id": "99ffdeca-be5c-4d3d-bf73-e59368966df0",
   "metadata": {},
   "outputs": [],
   "source": [
    "y_test = y_test.reshape(2000)\n",
    "y_test = y_test.astype(np.int32)"
   ]
  },
  {
   "cell_type": "code",
   "execution_count": 14,
   "id": "430db9d0-1a65-4432-bc03-be6b60191d3d",
   "metadata": {},
   "outputs": [],
   "source": [
    "y_train = tf.one_hot(y_train, depth=10)"
   ]
  },
  {
   "cell_type": "code",
   "execution_count": 15,
   "id": "c5ff4e20-786e-45bb-9a4d-700c459e6a4d",
   "metadata": {},
   "outputs": [],
   "source": [
    "y_test = tf.one_hot(y_test, depth=10)"
   ]
  },
  {
   "cell_type": "code",
   "execution_count": 16,
   "id": "28dd84be-194c-4674-a323-2c0cabce7cc6",
   "metadata": {},
   "outputs": [
    {
     "data": {
      "text/plain": [
       "<tf.Tensor: shape=(10000, 10), dtype=float32, numpy=\n",
       "array([[0., 0., 0., ..., 0., 0., 0.],\n",
       "       [0., 0., 0., ..., 0., 0., 0.],\n",
       "       [0., 0., 0., ..., 0., 0., 0.],\n",
       "       ...,\n",
       "       [0., 0., 0., ..., 0., 0., 0.],\n",
       "       [0., 0., 0., ..., 0., 0., 0.],\n",
       "       [0., 0., 0., ..., 0., 0., 0.]], dtype=float32)>"
      ]
     },
     "execution_count": 16,
     "metadata": {},
     "output_type": "execute_result"
    }
   ],
   "source": [
    "y_train"
   ]
  },
  {
   "cell_type": "code",
   "execution_count": 17,
   "id": "0f23b756-7412-46ca-b302-3a8c0e8d1e8c",
   "metadata": {},
   "outputs": [],
   "source": [
    "n= x_train.shape[0]"
   ]
  },
  {
   "cell_type": "code",
   "execution_count": 18,
   "id": "2e6c34d0-5fa8-4cfa-b1ef-af7f27423a13",
   "metadata": {},
   "outputs": [
    {
     "data": {
      "text/plain": [
       "10000"
      ]
     },
     "execution_count": 18,
     "metadata": {},
     "output_type": "execute_result"
    }
   ],
   "source": [
    "n"
   ]
  },
  {
   "cell_type": "code",
   "execution_count": 19,
   "id": "1330cdd5-966b-4500-a14c-08c3558b5b61",
   "metadata": {},
   "outputs": [],
   "source": [
    "batch_size = 256"
   ]
  },
  {
   "cell_type": "code",
   "execution_count": 20,
   "id": "49a3b40e-f3d4-4cd2-85c6-612d7e089931",
   "metadata": {},
   "outputs": [],
   "source": [
    "m = int(n/batch_size)"
   ]
  },
  {
   "cell_type": "code",
   "execution_count": 21,
   "id": "a18897d0-7ae0-49bc-9bb6-5c53470caea4",
   "metadata": {},
   "outputs": [
    {
     "data": {
      "text/plain": [
       "39"
      ]
     },
     "execution_count": 21,
     "metadata": {},
     "output_type": "execute_result"
    }
   ],
   "source": [
    "m"
   ]
  },
  {
   "cell_type": "code",
   "execution_count": 22,
   "id": "3529dd66-2de2-49a6-bd31-2dc1c1aa3224",
   "metadata": {},
   "outputs": [],
   "source": [
    "ds_train = tf.data.Dataset.from_tensor_slices((x_train,y_train))\n",
    "ds_train = ds_train.shuffle(5000).batch(batch_size)"
   ]
  },
  {
   "cell_type": "code",
   "execution_count": 23,
   "id": "b2a8701a-4afb-4cf6-8141-5b0197ab2e1e",
   "metadata": {},
   "outputs": [],
   "source": [
    "ds_test = tf.data.Dataset.from_tensor_slices((x_test, y_test))\n",
    "ds_test = ds_test.shuffle(5000).batch(batch_size)"
   ]
  },
  {
   "cell_type": "code",
   "execution_count": 24,
   "id": "9b4e60bc-3ead-47a0-b9e0-354f1aa23f6e",
   "metadata": {},
   "outputs": [],
   "source": [
    "classes = 10\n",
    "epochs = 14\n",
    "learning_rate = 0.001"
   ]
  },
  {
   "cell_type": "code",
   "execution_count": 25,
   "id": "a0d710ab-4b38-4e57-a377-49aaa460a3d7",
   "metadata": {},
   "outputs": [
    {
     "name": "stderr",
     "output_type": "stream",
     "text": [
      "C:\\Users\\puixd\\AppData\\Local\\Packages\\PythonSoftwareFoundation.Python.3.10_qbz5n2kfra8p0\\LocalCache\\local-packages\\Python310\\site-packages\\keras\\src\\layers\\convolutional\\base_conv.py:107: UserWarning: Do not pass an `input_shape`/`input_dim` argument to a layer. When using Sequential models, prefer using an `Input(shape)` object as the first layer in the model instead.\n",
      "  super().__init__(activity_regularizer=activity_regularizer, **kwargs)\n"
     ]
    }
   ],
   "source": [
    "model = keras.Sequential(\n",
    "    [    \n",
    "        # add pads on left and right\n",
    "        Conv2D(32, (5,5), activation='relu', padding='same', input_shape=(32,32,3)),\n",
    "        Conv2D(32, (5,5), activation='relu', padding='same'),\n",
    "        MaxPool2D(strides=(2,2)),\n",
    "        Dropout(0.25),\n",
    "        \n",
    "        Conv2D(64, (3,3), activation='relu'),\n",
    "        Conv2D(64, (3,3), activation='relu'),\n",
    "        MaxPool2D(strides=(2,2)),\n",
    "        Dropout(0.25),\n",
    "        \n",
    "        Flatten(),\n",
    "        Dense(128, activation='relu'),\n",
    "        Dropout(0.5),\n",
    "        # Dense(classes, activation='sigmoid')\n",
    "        Dense(classes, activation='softmax')\n",
    "    ]\n",
    ")"
   ]
  },
  {
   "cell_type": "code",
   "execution_count": 26,
   "id": "e89d889b-06bd-474b-af96-f09339d3cf36",
   "metadata": {},
   "outputs": [
    {
     "data": {
      "text/html": [
       "<pre style=\"white-space:pre;overflow-x:auto;line-height:normal;font-family:Menlo,'DejaVu Sans Mono',consolas,'Courier New',monospace\"><span style=\"font-weight: bold\">Model: \"sequential\"</span>\n",
       "</pre>\n"
      ],
      "text/plain": [
       "\u001b[1mModel: \"sequential\"\u001b[0m\n"
      ]
     },
     "metadata": {},
     "output_type": "display_data"
    },
    {
     "data": {
      "text/html": [
       "<pre style=\"white-space:pre;overflow-x:auto;line-height:normal;font-family:Menlo,'DejaVu Sans Mono',consolas,'Courier New',monospace\">┏━━━━━━━━━━━━━━━━━━━━━━━━━━━━━━━━━┳━━━━━━━━━━━━━━━━━━━━━━━━┳━━━━━━━━━━━━━━━┓\n",
       "┃<span style=\"font-weight: bold\"> Layer (type)                    </span>┃<span style=\"font-weight: bold\"> Output Shape           </span>┃<span style=\"font-weight: bold\">       Param # </span>┃\n",
       "┡━━━━━━━━━━━━━━━━━━━━━━━━━━━━━━━━━╇━━━━━━━━━━━━━━━━━━━━━━━━╇━━━━━━━━━━━━━━━┩\n",
       "│ conv2d (<span style=\"color: #0087ff; text-decoration-color: #0087ff\">Conv2D</span>)                 │ (<span style=\"color: #00d7ff; text-decoration-color: #00d7ff\">None</span>, <span style=\"color: #00af00; text-decoration-color: #00af00\">32</span>, <span style=\"color: #00af00; text-decoration-color: #00af00\">32</span>, <span style=\"color: #00af00; text-decoration-color: #00af00\">32</span>)     │         <span style=\"color: #00af00; text-decoration-color: #00af00\">2,432</span> │\n",
       "├─────────────────────────────────┼────────────────────────┼───────────────┤\n",
       "│ conv2d_1 (<span style=\"color: #0087ff; text-decoration-color: #0087ff\">Conv2D</span>)               │ (<span style=\"color: #00d7ff; text-decoration-color: #00d7ff\">None</span>, <span style=\"color: #00af00; text-decoration-color: #00af00\">32</span>, <span style=\"color: #00af00; text-decoration-color: #00af00\">32</span>, <span style=\"color: #00af00; text-decoration-color: #00af00\">32</span>)     │        <span style=\"color: #00af00; text-decoration-color: #00af00\">25,632</span> │\n",
       "├─────────────────────────────────┼────────────────────────┼───────────────┤\n",
       "│ max_pooling2d (<span style=\"color: #0087ff; text-decoration-color: #0087ff\">MaxPooling2D</span>)    │ (<span style=\"color: #00d7ff; text-decoration-color: #00d7ff\">None</span>, <span style=\"color: #00af00; text-decoration-color: #00af00\">16</span>, <span style=\"color: #00af00; text-decoration-color: #00af00\">16</span>, <span style=\"color: #00af00; text-decoration-color: #00af00\">32</span>)     │             <span style=\"color: #00af00; text-decoration-color: #00af00\">0</span> │\n",
       "├─────────────────────────────────┼────────────────────────┼───────────────┤\n",
       "│ dropout (<span style=\"color: #0087ff; text-decoration-color: #0087ff\">Dropout</span>)               │ (<span style=\"color: #00d7ff; text-decoration-color: #00d7ff\">None</span>, <span style=\"color: #00af00; text-decoration-color: #00af00\">16</span>, <span style=\"color: #00af00; text-decoration-color: #00af00\">16</span>, <span style=\"color: #00af00; text-decoration-color: #00af00\">32</span>)     │             <span style=\"color: #00af00; text-decoration-color: #00af00\">0</span> │\n",
       "├─────────────────────────────────┼────────────────────────┼───────────────┤\n",
       "│ conv2d_2 (<span style=\"color: #0087ff; text-decoration-color: #0087ff\">Conv2D</span>)               │ (<span style=\"color: #00d7ff; text-decoration-color: #00d7ff\">None</span>, <span style=\"color: #00af00; text-decoration-color: #00af00\">14</span>, <span style=\"color: #00af00; text-decoration-color: #00af00\">14</span>, <span style=\"color: #00af00; text-decoration-color: #00af00\">64</span>)     │        <span style=\"color: #00af00; text-decoration-color: #00af00\">18,496</span> │\n",
       "├─────────────────────────────────┼────────────────────────┼───────────────┤\n",
       "│ conv2d_3 (<span style=\"color: #0087ff; text-decoration-color: #0087ff\">Conv2D</span>)               │ (<span style=\"color: #00d7ff; text-decoration-color: #00d7ff\">None</span>, <span style=\"color: #00af00; text-decoration-color: #00af00\">12</span>, <span style=\"color: #00af00; text-decoration-color: #00af00\">12</span>, <span style=\"color: #00af00; text-decoration-color: #00af00\">64</span>)     │        <span style=\"color: #00af00; text-decoration-color: #00af00\">36,928</span> │\n",
       "├─────────────────────────────────┼────────────────────────┼───────────────┤\n",
       "│ max_pooling2d_1 (<span style=\"color: #0087ff; text-decoration-color: #0087ff\">MaxPooling2D</span>)  │ (<span style=\"color: #00d7ff; text-decoration-color: #00d7ff\">None</span>, <span style=\"color: #00af00; text-decoration-color: #00af00\">6</span>, <span style=\"color: #00af00; text-decoration-color: #00af00\">6</span>, <span style=\"color: #00af00; text-decoration-color: #00af00\">64</span>)       │             <span style=\"color: #00af00; text-decoration-color: #00af00\">0</span> │\n",
       "├─────────────────────────────────┼────────────────────────┼───────────────┤\n",
       "│ dropout_1 (<span style=\"color: #0087ff; text-decoration-color: #0087ff\">Dropout</span>)             │ (<span style=\"color: #00d7ff; text-decoration-color: #00d7ff\">None</span>, <span style=\"color: #00af00; text-decoration-color: #00af00\">6</span>, <span style=\"color: #00af00; text-decoration-color: #00af00\">6</span>, <span style=\"color: #00af00; text-decoration-color: #00af00\">64</span>)       │             <span style=\"color: #00af00; text-decoration-color: #00af00\">0</span> │\n",
       "├─────────────────────────────────┼────────────────────────┼───────────────┤\n",
       "│ flatten (<span style=\"color: #0087ff; text-decoration-color: #0087ff\">Flatten</span>)               │ (<span style=\"color: #00d7ff; text-decoration-color: #00d7ff\">None</span>, <span style=\"color: #00af00; text-decoration-color: #00af00\">2304</span>)           │             <span style=\"color: #00af00; text-decoration-color: #00af00\">0</span> │\n",
       "├─────────────────────────────────┼────────────────────────┼───────────────┤\n",
       "│ dense (<span style=\"color: #0087ff; text-decoration-color: #0087ff\">Dense</span>)                   │ (<span style=\"color: #00d7ff; text-decoration-color: #00d7ff\">None</span>, <span style=\"color: #00af00; text-decoration-color: #00af00\">128</span>)            │       <span style=\"color: #00af00; text-decoration-color: #00af00\">295,040</span> │\n",
       "├─────────────────────────────────┼────────────────────────┼───────────────┤\n",
       "│ dropout_2 (<span style=\"color: #0087ff; text-decoration-color: #0087ff\">Dropout</span>)             │ (<span style=\"color: #00d7ff; text-decoration-color: #00d7ff\">None</span>, <span style=\"color: #00af00; text-decoration-color: #00af00\">128</span>)            │             <span style=\"color: #00af00; text-decoration-color: #00af00\">0</span> │\n",
       "├─────────────────────────────────┼────────────────────────┼───────────────┤\n",
       "│ dense_1 (<span style=\"color: #0087ff; text-decoration-color: #0087ff\">Dense</span>)                 │ (<span style=\"color: #00d7ff; text-decoration-color: #00d7ff\">None</span>, <span style=\"color: #00af00; text-decoration-color: #00af00\">10</span>)             │         <span style=\"color: #00af00; text-decoration-color: #00af00\">1,290</span> │\n",
       "└─────────────────────────────────┴────────────────────────┴───────────────┘\n",
       "</pre>\n"
      ],
      "text/plain": [
       "┏━━━━━━━━━━━━━━━━━━━━━━━━━━━━━━━━━┳━━━━━━━━━━━━━━━━━━━━━━━━┳━━━━━━━━━━━━━━━┓\n",
       "┃\u001b[1m \u001b[0m\u001b[1mLayer (type)                   \u001b[0m\u001b[1m \u001b[0m┃\u001b[1m \u001b[0m\u001b[1mOutput Shape          \u001b[0m\u001b[1m \u001b[0m┃\u001b[1m \u001b[0m\u001b[1m      Param #\u001b[0m\u001b[1m \u001b[0m┃\n",
       "┡━━━━━━━━━━━━━━━━━━━━━━━━━━━━━━━━━╇━━━━━━━━━━━━━━━━━━━━━━━━╇━━━━━━━━━━━━━━━┩\n",
       "│ conv2d (\u001b[38;5;33mConv2D\u001b[0m)                 │ (\u001b[38;5;45mNone\u001b[0m, \u001b[38;5;34m32\u001b[0m, \u001b[38;5;34m32\u001b[0m, \u001b[38;5;34m32\u001b[0m)     │         \u001b[38;5;34m2,432\u001b[0m │\n",
       "├─────────────────────────────────┼────────────────────────┼───────────────┤\n",
       "│ conv2d_1 (\u001b[38;5;33mConv2D\u001b[0m)               │ (\u001b[38;5;45mNone\u001b[0m, \u001b[38;5;34m32\u001b[0m, \u001b[38;5;34m32\u001b[0m, \u001b[38;5;34m32\u001b[0m)     │        \u001b[38;5;34m25,632\u001b[0m │\n",
       "├─────────────────────────────────┼────────────────────────┼───────────────┤\n",
       "│ max_pooling2d (\u001b[38;5;33mMaxPooling2D\u001b[0m)    │ (\u001b[38;5;45mNone\u001b[0m, \u001b[38;5;34m16\u001b[0m, \u001b[38;5;34m16\u001b[0m, \u001b[38;5;34m32\u001b[0m)     │             \u001b[38;5;34m0\u001b[0m │\n",
       "├─────────────────────────────────┼────────────────────────┼───────────────┤\n",
       "│ dropout (\u001b[38;5;33mDropout\u001b[0m)               │ (\u001b[38;5;45mNone\u001b[0m, \u001b[38;5;34m16\u001b[0m, \u001b[38;5;34m16\u001b[0m, \u001b[38;5;34m32\u001b[0m)     │             \u001b[38;5;34m0\u001b[0m │\n",
       "├─────────────────────────────────┼────────────────────────┼───────────────┤\n",
       "│ conv2d_2 (\u001b[38;5;33mConv2D\u001b[0m)               │ (\u001b[38;5;45mNone\u001b[0m, \u001b[38;5;34m14\u001b[0m, \u001b[38;5;34m14\u001b[0m, \u001b[38;5;34m64\u001b[0m)     │        \u001b[38;5;34m18,496\u001b[0m │\n",
       "├─────────────────────────────────┼────────────────────────┼───────────────┤\n",
       "│ conv2d_3 (\u001b[38;5;33mConv2D\u001b[0m)               │ (\u001b[38;5;45mNone\u001b[0m, \u001b[38;5;34m12\u001b[0m, \u001b[38;5;34m12\u001b[0m, \u001b[38;5;34m64\u001b[0m)     │        \u001b[38;5;34m36,928\u001b[0m │\n",
       "├─────────────────────────────────┼────────────────────────┼───────────────┤\n",
       "│ max_pooling2d_1 (\u001b[38;5;33mMaxPooling2D\u001b[0m)  │ (\u001b[38;5;45mNone\u001b[0m, \u001b[38;5;34m6\u001b[0m, \u001b[38;5;34m6\u001b[0m, \u001b[38;5;34m64\u001b[0m)       │             \u001b[38;5;34m0\u001b[0m │\n",
       "├─────────────────────────────────┼────────────────────────┼───────────────┤\n",
       "│ dropout_1 (\u001b[38;5;33mDropout\u001b[0m)             │ (\u001b[38;5;45mNone\u001b[0m, \u001b[38;5;34m6\u001b[0m, \u001b[38;5;34m6\u001b[0m, \u001b[38;5;34m64\u001b[0m)       │             \u001b[38;5;34m0\u001b[0m │\n",
       "├─────────────────────────────────┼────────────────────────┼───────────────┤\n",
       "│ flatten (\u001b[38;5;33mFlatten\u001b[0m)               │ (\u001b[38;5;45mNone\u001b[0m, \u001b[38;5;34m2304\u001b[0m)           │             \u001b[38;5;34m0\u001b[0m │\n",
       "├─────────────────────────────────┼────────────────────────┼───────────────┤\n",
       "│ dense (\u001b[38;5;33mDense\u001b[0m)                   │ (\u001b[38;5;45mNone\u001b[0m, \u001b[38;5;34m128\u001b[0m)            │       \u001b[38;5;34m295,040\u001b[0m │\n",
       "├─────────────────────────────────┼────────────────────────┼───────────────┤\n",
       "│ dropout_2 (\u001b[38;5;33mDropout\u001b[0m)             │ (\u001b[38;5;45mNone\u001b[0m, \u001b[38;5;34m128\u001b[0m)            │             \u001b[38;5;34m0\u001b[0m │\n",
       "├─────────────────────────────────┼────────────────────────┼───────────────┤\n",
       "│ dense_1 (\u001b[38;5;33mDense\u001b[0m)                 │ (\u001b[38;5;45mNone\u001b[0m, \u001b[38;5;34m10\u001b[0m)             │         \u001b[38;5;34m1,290\u001b[0m │\n",
       "└─────────────────────────────────┴────────────────────────┴───────────────┘\n"
      ]
     },
     "metadata": {},
     "output_type": "display_data"
    },
    {
     "data": {
      "text/html": [
       "<pre style=\"white-space:pre;overflow-x:auto;line-height:normal;font-family:Menlo,'DejaVu Sans Mono',consolas,'Courier New',monospace\"><span style=\"font-weight: bold\"> Total params: </span><span style=\"color: #00af00; text-decoration-color: #00af00\">379,818</span> (1.45 MB)\n",
       "</pre>\n"
      ],
      "text/plain": [
       "\u001b[1m Total params: \u001b[0m\u001b[38;5;34m379,818\u001b[0m (1.45 MB)\n"
      ]
     },
     "metadata": {},
     "output_type": "display_data"
    },
    {
     "data": {
      "text/html": [
       "<pre style=\"white-space:pre;overflow-x:auto;line-height:normal;font-family:Menlo,'DejaVu Sans Mono',consolas,'Courier New',monospace\"><span style=\"font-weight: bold\"> Trainable params: </span><span style=\"color: #00af00; text-decoration-color: #00af00\">379,818</span> (1.45 MB)\n",
       "</pre>\n"
      ],
      "text/plain": [
       "\u001b[1m Trainable params: \u001b[0m\u001b[38;5;34m379,818\u001b[0m (1.45 MB)\n"
      ]
     },
     "metadata": {},
     "output_type": "display_data"
    },
    {
     "data": {
      "text/html": [
       "<pre style=\"white-space:pre;overflow-x:auto;line-height:normal;font-family:Menlo,'DejaVu Sans Mono',consolas,'Courier New',monospace\"><span style=\"font-weight: bold\"> Non-trainable params: </span><span style=\"color: #00af00; text-decoration-color: #00af00\">0</span> (0.00 B)\n",
       "</pre>\n"
      ],
      "text/plain": [
       "\u001b[1m Non-trainable params: \u001b[0m\u001b[38;5;34m0\u001b[0m (0.00 B)\n"
      ]
     },
     "metadata": {},
     "output_type": "display_data"
    }
   ],
   "source": [
    "model.summary()"
   ]
  },
  {
   "cell_type": "code",
   "execution_count": 27,
   "id": "b7e5c84e-ade0-45e0-88d6-73526a25a37c",
   "metadata": {},
   "outputs": [],
   "source": [
    "model.compile(optimizer=Adam(learning_rate=learning_rate), loss='categorical_crossentropy', metrics=['accuracy'])"
   ]
  },
  {
   "cell_type": "code",
   "execution_count": 28,
   "id": "04e40631-02b4-4fa1-8257-83d2b5b8024d",
   "metadata": {},
   "outputs": [
    {
     "name": "stdout",
     "output_type": "stream",
     "text": [
      "Epoch 1/14\n",
      "\u001b[1m36/36\u001b[0m \u001b[32m━━━━━━━━━━━━━━━━━━━━\u001b[0m\u001b[37m\u001b[0m \u001b[1m5s\u001b[0m 112ms/step - accuracy: 0.4594 - loss: 1.0814 - val_accuracy: 0.5130 - val_loss: 0.6949\n",
      "Epoch 2/14\n",
      "\u001b[1m36/36\u001b[0m \u001b[32m━━━━━━━━━━━━━━━━━━━━\u001b[0m\u001b[37m\u001b[0m \u001b[1m4s\u001b[0m 105ms/step - accuracy: 0.5240 - loss: 0.7073 - val_accuracy: 0.5410 - val_loss: 0.6901\n",
      "Epoch 3/14\n",
      "\u001b[1m36/36\u001b[0m \u001b[32m━━━━━━━━━━━━━━━━━━━━\u001b[0m\u001b[37m\u001b[0m \u001b[1m4s\u001b[0m 99ms/step - accuracy: 0.5560 - loss: 0.6893 - val_accuracy: 0.5790 - val_loss: 0.6755\n",
      "Epoch 4/14\n",
      "\u001b[1m36/36\u001b[0m \u001b[32m━━━━━━━━━━━━━━━━━━━━\u001b[0m\u001b[37m\u001b[0m \u001b[1m4s\u001b[0m 100ms/step - accuracy: 0.5859 - loss: 0.6717 - val_accuracy: 0.5990 - val_loss: 0.6558\n",
      "Epoch 5/14\n",
      "\u001b[1m36/36\u001b[0m \u001b[32m━━━━━━━━━━━━━━━━━━━━\u001b[0m\u001b[37m\u001b[0m \u001b[1m4s\u001b[0m 99ms/step - accuracy: 0.5957 - loss: 0.6613 - val_accuracy: 0.6130 - val_loss: 0.6492\n",
      "Epoch 6/14\n",
      "\u001b[1m36/36\u001b[0m \u001b[32m━━━━━━━━━━━━━━━━━━━━\u001b[0m\u001b[37m\u001b[0m \u001b[1m4s\u001b[0m 100ms/step - accuracy: 0.6212 - loss: 0.6494 - val_accuracy: 0.6420 - val_loss: 0.6254\n",
      "Epoch 7/14\n",
      "\u001b[1m36/36\u001b[0m \u001b[32m━━━━━━━━━━━━━━━━━━━━\u001b[0m\u001b[37m\u001b[0m \u001b[1m4s\u001b[0m 98ms/step - accuracy: 0.6593 - loss: 0.6151 - val_accuracy: 0.6640 - val_loss: 0.6071\n",
      "Epoch 8/14\n",
      "\u001b[1m36/36\u001b[0m \u001b[32m━━━━━━━━━━━━━━━━━━━━\u001b[0m\u001b[37m\u001b[0m \u001b[1m4s\u001b[0m 101ms/step - accuracy: 0.6771 - loss: 0.5978 - val_accuracy: 0.6660 - val_loss: 0.5973\n",
      "Epoch 9/14\n",
      "\u001b[1m36/36\u001b[0m \u001b[32m━━━━━━━━━━━━━━━━━━━━\u001b[0m\u001b[37m\u001b[0m \u001b[1m4s\u001b[0m 99ms/step - accuracy: 0.6877 - loss: 0.5788 - val_accuracy: 0.6760 - val_loss: 0.6017\n",
      "Epoch 10/14\n",
      "\u001b[1m36/36\u001b[0m \u001b[32m━━━━━━━━━━━━━━━━━━━━\u001b[0m\u001b[37m\u001b[0m \u001b[1m4s\u001b[0m 100ms/step - accuracy: 0.6838 - loss: 0.5927 - val_accuracy: 0.6870 - val_loss: 0.5839\n",
      "Epoch 11/14\n",
      "\u001b[1m36/36\u001b[0m \u001b[32m━━━━━━━━━━━━━━━━━━━━\u001b[0m\u001b[37m\u001b[0m \u001b[1m4s\u001b[0m 99ms/step - accuracy: 0.7159 - loss: 0.5621 - val_accuracy: 0.6740 - val_loss: 0.5898\n",
      "Epoch 12/14\n",
      "\u001b[1m36/36\u001b[0m \u001b[32m━━━━━━━━━━━━━━━━━━━━\u001b[0m\u001b[37m\u001b[0m \u001b[1m4s\u001b[0m 99ms/step - accuracy: 0.7158 - loss: 0.5496 - val_accuracy: 0.7030 - val_loss: 0.5570\n",
      "Epoch 13/14\n",
      "\u001b[1m36/36\u001b[0m \u001b[32m━━━━━━━━━━━━━━━━━━━━\u001b[0m\u001b[37m\u001b[0m \u001b[1m4s\u001b[0m 99ms/step - accuracy: 0.7177 - loss: 0.5357 - val_accuracy: 0.7310 - val_loss: 0.5530\n",
      "Epoch 14/14\n",
      "\u001b[1m36/36\u001b[0m \u001b[32m━━━━━━━━━━━━━━━━━━━━\u001b[0m\u001b[37m\u001b[0m \u001b[1m4s\u001b[0m 102ms/step - accuracy: 0.7315 - loss: 0.5255 - val_accuracy: 0.7220 - val_loss: 0.5528\n"
     ]
    }
   ],
   "source": [
    "history = model.fit(x_train, y_train, batch_size=batch_size, validation_split=0.1, epochs=epochs)"
   ]
  },
  {
   "cell_type": "code",
   "execution_count": 29,
   "id": "ce7c73e8-8d7e-404a-ab19-efdba4ac3d48",
   "metadata": {},
   "outputs": [],
   "source": [
    "#history = model.fit(ds_train, validation_data=ds_test, epochs=epochs)"
   ]
  },
  {
   "cell_type": "code",
   "execution_count": 30,
   "id": "505f977d-38bb-4d62-8d88-94908529f869",
   "metadata": {},
   "outputs": [],
   "source": [
    "accuracy = history.history[\"accuracy\"]\n",
    "val_accuracy = history.history[\"val_accuracy\"]\n",
    "loss = history.history[\"loss\"]\n",
    "val_loss = history.history[\"val_loss\"]"
   ]
  },
  {
   "cell_type": "code",
   "execution_count": 31,
   "id": "f28b4aeb-5a9e-4bb5-9f87-3a9de04efa0a",
   "metadata": {},
   "outputs": [
    {
     "name": "stdout",
     "output_type": "stream",
     "text": [
      "dict_keys(['accuracy', 'loss', 'val_accuracy', 'val_loss'])\n"
     ]
    },
    {
     "data": {
      "text/plain": [
       "<function matplotlib.pyplot.show(close=None, block=None)>"
      ]
     },
     "execution_count": 31,
     "metadata": {},
     "output_type": "execute_result"
    },
    {
     "data": {
      "image/png": "[encoded data removed]",
      "text/plain": [
       "<Figure size 432x288 with 1 Axes>"
      ]
     },
     "metadata": {
      "needs_background": "light"
     },
     "output_type": "display_data"
    }
   ],
   "source": [
    "plt.plot(accuracy)\n",
    "plt.plot(val_accuracy)\n",
    "plt.plot(loss)\n",
    "plt.plot(val_loss)\n",
    "\n",
    "plt.title(\"Model accuracy\")\n",
    "plt.ylabel(\"accuracy\")\n",
    "plt.xlabel(\"epoch\")\n",
    "plt.legend([\"accuracy\", \"val_accuracy\", \"loss\", \"val_loss\"])\n",
    "print(history.history.keys())\n",
    "plt.show"
   ]
  },
  {
   "cell_type": "code",
   "execution_count": 32,
   "id": "d0d9908a-b98e-49cb-b2bd-94fdca430679",
   "metadata": {},
   "outputs": [
    {
     "data": {
      "image/png": "[encoded data removed]",
      "text/plain": [
       "<Figure size 432x288 with 2 Axes>"
      ]
     },
     "metadata": {
      "needs_background": "light"
     },
     "output_type": "display_data"
    }
   ],
   "source": [
    "fig, ax = plt.subplots(2,1)\n",
    "\n",
    "ax[0].plot(history.history['accuracy'], color='b', label=\"Training Accuracy\")\n",
    "ax[0].plot(history.history['val_accuracy'], color='r', label=\"Validation Accuracy\")\n",
    "legend = ax[0].legend(loc='best')\n",
    "\n",
    "ax[1].plot(history.history['loss'], color='b', label=\"Training Loss\")\n",
    "ax[1].plot(history.history['val_loss'], color='r', label=\"Validation Loss\")\n",
    "legend = ax[1].legend(loc='best')"
   ]
  },
  {
   "cell_type": "code",
   "execution_count": 33,
   "id": "ef546381-8939-4452-a806-ab0eb6c85ac3",
   "metadata": {},
   "outputs": [
    {
     "name": "stdout",
     "output_type": "stream",
     "text": [
      "\u001b[1m63/63\u001b[0m \u001b[32m━━━━━━━━━━━━━━━━━━━━\u001b[0m\u001b[37m\u001b[0m \u001b[1m0s\u001b[0m 5ms/step - accuracy: 0.7219 - loss: 0.5438\n"
     ]
    }
   ],
   "source": [
    "test_loss, test_acc = model.evaluate(x_test, y_test)"
   ]
  },
  {
   "cell_type": "code",
   "execution_count": 34,
   "id": "5f33efa0-8f2e-4ab5-bb39-878ca9ce8d40",
   "metadata": {},
   "outputs": [
    {
     "data": {
      "text/plain": [
       "0.7294999957084656"
      ]
     },
     "execution_count": 34,
     "metadata": {},
     "output_type": "execute_result"
    }
   ],
   "source": [
    "test_acc"
   ]
  },
  {
   "cell_type": "code",
   "execution_count": 35,
   "id": "2091002c-d94d-4a98-b8f6-cc497734a507",
   "metadata": {},
   "outputs": [
    {
     "data": {
      "text/plain": [
       "0.5336832404136658"
      ]
     },
     "execution_count": 35,
     "metadata": {},
     "output_type": "execute_result"
    }
   ],
   "source": [
    "test_loss"
   ]
  },
  {
   "cell_type": "code",
   "execution_count": 36,
   "id": "1f6a8f6c-9659-470e-8741-ff77bd9cfb78",
   "metadata": {},
   "outputs": [
    {
     "name": "stdout",
     "output_type": "stream",
     "text": [
      "\u001b[1m63/63\u001b[0m \u001b[32m━━━━━━━━━━━━━━━━━━━━\u001b[0m\u001b[37m\u001b[0m \u001b[1m0s\u001b[0m 5ms/step\n"
     ]
    }
   ],
   "source": [
    "y_predicted = model.predict(x_test)\n",
    "y_expected = np.argmax(y_test, axis = 1)"
   ]
  },
  {
   "cell_type": "code",
   "execution_count": 37,
   "id": "ea8ef16e-74ad-43c4-99e7-fcad996d9141",
   "metadata": {},
   "outputs": [],
   "source": [
    "predicted_classes = np.argmax(y_predicted, axis = 1) "
   ]
  },
  {
   "cell_type": "code",
   "execution_count": 38,
   "id": "402f7ce4-5e3f-4aa4-879e-7dba421961f3",
   "metadata": {},
   "outputs": [],
   "source": [
    "cmat = tf.math.confusion_matrix(y_expected, predicted_classes) "
   ]
  },
  {
   "cell_type": "code",
   "execution_count": 39,
   "id": "fcf57839-4dc2-40a2-9c38-1eacaed00c86",
   "metadata": {},
   "outputs": [
    {
     "data": {
      "text/plain": [
       "<Axes: >"
      ]
     },
     "execution_count": 39,
     "metadata": {},
     "output_type": "execute_result"
    },
    {
     "data": {
      "image/png": "[encoded data removed]",
      "text/plain": [
       "<Figure size 720x576 with 2 Axes>"
      ]
     },
     "metadata": {
      "needs_background": "light"
     },
     "output_type": "display_data"
    }
   ],
   "source": [
    "# Cats 3\n",
    "# Dogs 5\n",
    "# X = PREDICTED\n",
    "# Y = EXPECTED\n",
    "plt.figure(figsize=(10, 8))\n",
    "sns.heatmap(cmat, annot=True, fmt='g')"
   ]
  },
  {
   "cell_type": "code",
   "execution_count": 40,
   "id": "0ab1869b-b490-421c-a855-2c15fcd35d0b",
   "metadata": {},
   "outputs": [
    {
     "data": {
      "image/png": "[encoded data removed]",
      "text/plain": [
       "<Figure size 432x288 with 1 Axes>"
      ]
     },
     "metadata": {
      "needs_background": "light"
     },
     "output_type": "display_data"
    }
   ],
   "source": [
    "def display_digit(num, size):\n",
    "    image = x_train[num].reshape([size,size, 3])\n",
    "    label = y_train[num]\n",
    "    #plt.title('Example: %d  Label: %d' % (num, label))\n",
    "    plt.imshow(image, cmap=plt.get_cmap('gray_r'))\n",
    "    plt.grid()\n",
    "    plt.show()\n",
    "\n",
    "randnum = ran.randint(0, 10000)\n",
    "display_digit(randnum, 32)"
   ]
  },
  {
   "cell_type": "code",
   "execution_count": 41,
   "id": "589903c9-231a-4165-a25c-c79cf80cb7b7",
   "metadata": {},
   "outputs": [],
   "source": [
    "# Try a random image from the database\n",
    "def atest(k):\n",
    "    img = x_train[k]\n",
    "    lab = y_train[k]\n",
    "\n",
    "    plt.imshow(img, cmap=plt.get_cmap('gray_r'))\n",
    "    plt.grid()\n",
    "    plt.show()\n",
    "\n",
    "    prediction = model.predict(x_train[k].reshape(1, x_train.shape[1], x_train.shape[2], x_train.shape[3]))                                                     \n",
    "    predicted_class = np.argmax(prediction, axis = 1) \n",
    "    print(type(img))\n",
    "    return predicted_class, lab"
   ]
  },
  {
   "cell_type": "code",
   "execution_count": 42,
   "id": "0a3aec04-7814-413d-bec8-c2b81be25ace",
   "metadata": {},
   "outputs": [
    {
     "data": {
      "image/png": "[encoded data removed]",
      "text/plain": [
       "<Figure size 432x288 with 1 Axes>"
      ]
     },
     "metadata": {
      "needs_background": "light"
     },
     "output_type": "display_data"
    },
    {
     "name": "stdout",
     "output_type": "stream",
     "text": [
      "\u001b[1m1/1\u001b[0m \u001b[32m━━━━━━━━━━━━━━━━━━━━\u001b[0m\u001b[37m\u001b[0m \u001b[1m0s\u001b[0m 16ms/step\n",
      "<class 'numpy.ndarray'>\n",
      "Neural Network predicted [3]\n",
      "Real label is: 3\n"
     ]
    }
   ],
   "source": [
    "k = ran.randint(0, 10000) \n",
    "predicted_class, lab = atest(k)\n",
    "print('Neural Network predicted', predicted_class)\n",
    "print('Real label is:', np.argmax(lab))"
   ]
  },
  {
   "cell_type": "code",
   "execution_count": 43,
   "id": "7bdcd3c6-8ab4-41f5-a71e-820fed6a3e6e",
   "metadata": {},
   "outputs": [],
   "source": [
    "ownImage = Image.open('cat.jpg')\n",
    "image_array = np.array(ownImage)\n",
    "\n",
    "ownImage2 = Image.open('catv2.jpg')\n",
    "image_array2 = np.array(ownImage2)"
   ]
  },
  {
   "cell_type": "code",
   "execution_count": 44,
   "id": "95ff58bc-bb16-4c97-a21d-0f53a327a2ee",
   "metadata": {},
   "outputs": [],
   "source": [
    "def ownImageTest(image):\n",
    "    img = image\n",
    "\n",
    "    plt.imshow(img, cmap=plt.get_cmap('gray_r'))\n",
    "    plt.grid()\n",
    "    plt.show()\n",
    "\n",
    "    prediction = model.predict(image.reshape(1, x_train.shape[1], x_train.shape[2], 3))                                                     \n",
    "    predicted_class = np.argmax(prediction, axis = 1) \n",
    "    \n",
    "    return predicted_class"
   ]
  },
  {
   "cell_type": "code",
   "execution_count": 45,
   "id": "8ea69b90-27d8-44d8-8d84-d410ab00f26e",
   "metadata": {},
   "outputs": [
    {
     "data": {
      "image/png": "[encoded data removed]",
      "text/plain": [
       "<Figure size 432x288 with 1 Axes>"
      ]
     },
     "metadata": {
      "needs_background": "light"
     },
     "output_type": "display_data"
    },
    {
     "name": "stdout",
     "output_type": "stream",
     "text": [
      "\u001b[1m1/1\u001b[0m \u001b[32m━━━━━━━━━━━━━━━━━━━━\u001b[0m\u001b[37m\u001b[0m \u001b[1m0s\u001b[0m 55ms/step\n",
      "Neural Network predicted [3]\n",
      "Real label is: 3\n"
     ]
    }
   ],
   "source": [
    "predicted_class = ownImageTest(image_array)\n",
    "print('Neural Network predicted', predicted_class)\n",
    "print('Real label is: 3')"
   ]
  },
  {
   "cell_type": "code",
   "execution_count": 46,
   "id": "3b3279a9-f377-4e09-9cc9-48d910c65856",
   "metadata": {},
   "outputs": [
    {
     "data": {
      "image/png": "[encoded data removed]",
      "text/plain": [
       "<Figure size 432x288 with 1 Axes>"
      ]
     },
     "metadata": {
      "needs_background": "light"
     },
     "output_type": "display_data"
    },
    {
     "name": "stdout",
     "output_type": "stream",
     "text": [
      "\u001b[1m1/1\u001b[0m \u001b[32m━━━━━━━━━━━━━━━━━━━━\u001b[0m\u001b[37m\u001b[0m \u001b[1m0s\u001b[0m 15ms/step\n",
      "Neural Network predicted [3]\n",
      "Real label is: 3\n"
     ]
    }
   ],
   "source": [
    "predicted_class = ownImageTest(image_array2)\n",
    "print('Neural Network predicted', predicted_class)\n",
    "print('Real label is: 3')"
   ]
  },
  {
   "cell_type": "markdown",
   "id": "6b97e971-6e4e-4c25-941a-f2d970ebe028",
   "metadata": {},
   "source": [
    "<h4>Defining ANN and CNN:</h4>\n",
    "<h5>ANN</h5>\n",
    "<ul>\n",
    "    <li>Can be used in a variety of use cases</li>\n",
    "    <li>Has a lot of subdivisions</li>\n",
    "</ul>\n",
    "<h5>CNN</h5>\n",
    "<ul>\n",
    "    <li>Good with image recognition</li>\n",
    "    <li>CNN is a subdivision of ANN</li>\n",
    "    <li>Uses the convolutional image processing</li>\n",
    "</ul>\n",
    "   "
   ]
  },
  {
   "cell_type": "markdown",
   "id": "ff14c2ac-92a0-4521-881b-930c655647ad",
   "metadata": {},
   "source": [
    "<h4>Fine tuned CNN hyper-parameters</h4>\n",
    "Changed the epochs to 14 to get a better accuracy (Tried with above the value, but the model got overfitted)"
   ]
  },
  {
   "cell_type": "markdown",
   "id": "83bde5d6-9663-44d9-ac1a-8abcff5a4156",
   "metadata": {},
   "source": [
    "<h4>ANN Activations functions</h4>\n",
    "We have used relu (Rectified Linear Unit):\n",
    "\n",
    "```python\n",
    "model = keras.Sequential(\n",
    "    [    \n",
    "        # add pads on left and right\n",
    "        Conv2D(32, (5,5), activation='relu', padding='same', input_shape=(32,32,3)),\n",
    "        Conv2D(32, (5,5), activation='relu', padding='same'),\n",
    "        MaxPool2D(strides=(2,2)),\n",
    "        Dropout(0.25),\n",
    "        \n",
    "        Conv2D(64, (3,3), activation='relu'),\n",
    "        Conv2D(64, (3,3), activation='relu'),\n",
    "        MaxPool2D(strides=(2,2)),\n",
    "        Dropout(0.25),\n",
    "        \n",
    "        Flatten(),\n",
    "        Dense(128, activation='relu'),\n",
    "        Dropout(0.5),\n",
    "        # Dense(classes, activation='sigmoid')\n",
    "        Dense(classes, activation='softmax')\n",
    "    ]\n",
    ")"
   ]
  },
  {
   "cell_type": "markdown",
   "id": "56cc3b4b-9629-4de0-8fcf-402b1e7318c7",
   "metadata": {},
   "source": [
    "<h4>Advantages of ANN and CNN for classification compared to other known methods</h4>\n",
    "<h5>Advantages</h5>\n",
    "<ul>\n",
    "    <li>You are able to fine tune CNN and ANN better.</li>\n",
    "    <li>Is generally performance wise better</li>\n",
    "</ul>\n",
    "<h5>Disadvantages</h5>\n",
    "<ul>\n",
    "    <li>Advanced</li>\n",
    "    <li>Requires more resources</li>\n",
    "</ul>"
   ]
  }
 ],
 "metadata": {
  "kernelspec": {
   "display_name": "Python 3 (ipykernel)",
   "language": "python",
   "name": "python3"
  },
  "language_info": {
   "codemirror_mode": {
    "name": "ipython",
    "version": 3
   },
   "file_extension": ".py",
   "mimetype": "text/x-python",
   "name": "python",
   "nbconvert_exporter": "python",
   "pygments_lexer": "ipython3",
   "version": "3.10.11"
  }
 },
 "nbformat": 4,
 "nbformat_minor": 5
}
